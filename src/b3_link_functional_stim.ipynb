{
 "cells": [
  {
   "cell_type": "markdown",
   "metadata": {},
   "source": [
    "# Linking the functional and stimulus datasets\n",
    "\n",
    "Now that we have a functional dataset and a mappings from stimulus to labels, we can link the two together and finalize our dataset pipeline."
   ]
  },
  {
   "cell_type": "code",
   "execution_count": 2,
   "metadata": {},
   "outputs": [],
   "source": [
    "from packages import *\n",
    "%matplotlib inline"
   ]
  },
  {
   "cell_type": "code",
   "execution_count": 3,
   "metadata": {},
   "outputs": [],
   "source": [
    "# run = False\n",
    "run = True\n",
    "# save = False\n",
    "save = True\n",
    "load = False\n",
    "# load = True\n",
    "# check = False\n",
    "check = True"
   ]
  },
  {
   "cell_type": "code",
   "execution_count": 4,
   "metadata": {},
   "outputs": [],
   "source": [
    "subject = 3"
   ]
  },
  {
   "cell_type": "code",
   "execution_count": 5,
   "metadata": {},
   "outputs": [],
   "source": [
    "def load_events_files(subject):\n",
    "    '''\n",
    "    loads the events files associated with a subject in a dictionary keyed by session and run\n",
    "    '''\n",
    "    data = {}\n",
    "    sub_dir = os.path.join(DATA_DIR, get_subject_dir(subject))\n",
    "    for session in SESSIONS:\n",
    "        data[session] = {}\n",
    "        ses_dir = os.path.join(sub_dir, get_session_dir(session), 'events/')\n",
    "        for f in os.listdir(ses_dir):\n",
    "            if 'localizer' in f:\n",
    "                continue\n",
    "            run = extract_run(f)\n",
    "            f_path = os.path.join(ses_dir, f)\n",
    "            df = load_file(f_path)[0]\n",
    "            # we can get rid of irrelevant columns in data\n",
    "            data[session][run] = df[['ImgName']]\n",
    "    return data      "
   ]
  },
  {
   "cell_type": "code",
   "execution_count": 6,
   "metadata": {},
   "outputs": [],
   "source": [
    "if run:\n",
    "    data = load_events_files(subject)"
   ]
  },
  {
   "cell_type": "code",
   "execution_count": 8,
   "metadata": {},
   "outputs": [
    {
     "data": {
      "text/html": [
       "<div>\n",
       "<style scoped>\n",
       "    .dataframe tbody tr th:only-of-type {\n",
       "        vertical-align: middle;\n",
       "    }\n",
       "\n",
       "    .dataframe tbody tr th {\n",
       "        vertical-align: top;\n",
       "    }\n",
       "\n",
       "    .dataframe thead th {\n",
       "        text-align: right;\n",
       "    }\n",
       "</style>\n",
       "<table border=\"1\" class=\"dataframe\">\n",
       "  <thead>\n",
       "    <tr style=\"text-align: right;\">\n",
       "      <th></th>\n",
       "      <th>ImgName</th>\n",
       "    </tr>\n",
       "  </thead>\n",
       "  <tbody>\n",
       "    <tr>\n",
       "      <th>0</th>\n",
       "      <td>COCO_train2014_000000292845.jpg</td>\n",
       "    </tr>\n",
       "    <tr>\n",
       "      <th>1</th>\n",
       "      <td>COCO_train2014_000000296474.jpg</td>\n",
       "    </tr>\n",
       "    <tr>\n",
       "      <th>2</th>\n",
       "      <td>COCO_train2014_000000340488.jpg</td>\n",
       "    </tr>\n",
       "    <tr>\n",
       "      <th>3</th>\n",
       "      <td>COCO_train2014_000000072095.jpg</td>\n",
       "    </tr>\n",
       "    <tr>\n",
       "      <th>4</th>\n",
       "      <td>COCO_train2014_000000207833.jpg</td>\n",
       "    </tr>\n",
       "    <tr>\n",
       "      <th>5</th>\n",
       "      <td>cabinIndoors4.jpg</td>\n",
       "    </tr>\n",
       "    <tr>\n",
       "      <th>6</th>\n",
       "      <td>dugout2.jpg</td>\n",
       "    </tr>\n",
       "    <tr>\n",
       "      <th>7</th>\n",
       "      <td>n02640242_4958.JPEG</td>\n",
       "    </tr>\n",
       "    <tr>\n",
       "      <th>8</th>\n",
       "      <td>n02123597_11635.JPEG</td>\n",
       "    </tr>\n",
       "    <tr>\n",
       "      <th>9</th>\n",
       "      <td>n04467665_69667.JPEG</td>\n",
       "    </tr>\n",
       "  </tbody>\n",
       "</table>\n",
       "</div>"
      ],
      "text/plain": [
       "                           ImgName\n",
       "0  COCO_train2014_000000292845.jpg\n",
       "1  COCO_train2014_000000296474.jpg\n",
       "2  COCO_train2014_000000340488.jpg\n",
       "3  COCO_train2014_000000072095.jpg\n",
       "4  COCO_train2014_000000207833.jpg\n",
       "5                cabinIndoors4.jpg\n",
       "6                      dugout2.jpg\n",
       "7              n02640242_4958.JPEG\n",
       "8             n02123597_11635.JPEG\n",
       "9             n04467665_69667.JPEG"
      ]
     },
     "execution_count": 8,
     "metadata": {},
     "output_type": "execute_result"
    }
   ],
   "source": [
    "data[1][1].head(10)"
   ]
  },
  {
   "cell_type": "markdown",
   "metadata": {},
   "source": [
    "Next up we will transform our ses:run dictionary into ses:stim, which is the format of our fmri dataset."
   ]
  },
  {
   "cell_type": "code",
   "execution_count": 9,
   "metadata": {},
   "outputs": [],
   "source": [
    "if run:\n",
    "    dataset = {}\n",
    "    sessions = data.keys()\n",
    "    sessions.sort()\n",
    "    for ses in sessions:\n",
    "        combined = []\n",
    "        runs = data[ses].keys()\n",
    "        runs.sort()\n",
    "        for r in runs: \n",
    "            for i in xrange(len(data[ses][r])):\n",
    "                combined.append(data[ses][r].iloc[i].ImgName)\n",
    "        dataset[ses] = combined"
   ]
  },
  {
   "cell_type": "code",
   "execution_count": 14,
   "metadata": {},
   "outputs": [
    {
     "data": {
      "text/plain": [
       "370"
      ]
     },
     "execution_count": 14,
     "metadata": {},
     "output_type": "execute_result"
    }
   ],
   "source": [
    "len(dataset[1])"
   ]
  },
  {
   "cell_type": "code",
   "execution_count": 38,
   "metadata": {},
   "outputs": [],
   "source": [
    "if save:\n",
    "    save_pickle(dataset, 'func_stim_link', subdir='sub-{}'.format(subject))\n",
    "    "
   ]
  }
 ],
 "metadata": {
  "kernelspec": {
   "display_name": "Python 2",
   "language": "python",
   "name": "python2"
  },
  "language_info": {
   "codemirror_mode": {
    "name": "ipython",
    "version": 2
   },
   "file_extension": ".py",
   "mimetype": "text/x-python",
   "name": "python",
   "nbconvert_exporter": "python",
   "pygments_lexer": "ipython2",
   "version": "2.7.13"
  }
 },
 "nbformat": 4,
 "nbformat_minor": 2
}
