{
 "cells": [
  {
   "cell_type": "markdown",
   "metadata": {},
   "source": [
    "# Brain-Decoding\n",
    "\n",
    "This project is motivated by [Deep image reconstruction from human brain activity](https://journals.plos.org/ploscompbiol/article?id=10.1371/journal.pcbi.1006633) where researchers successfully reconstructed visual stimulus from recorded [BOLD](https://en.wikipedia.org/wiki/Blood-oxygen-level-dependent_imaging)-dependent brain signal. \n",
    "\n",
    "The gist of their approach was to leverage the representational similarities of a famous convolutional model, VGG, to primate visual cortex. They trained linear classifiers that connected the BOLD signal to activations of specific nodes (across layers) in the VGG model. Later they reconstructed the image using the real and predicted VGG activations.\n",
    "\n",
    "My curiosity was that whether or not it would be possible to abandon the reliance on VGG and establish a connection directly between the BOLD signal and the visual stimulus. \n"
   ]
  }
 ],
 "metadata": {
  "kernelspec": {
   "display_name": "brain-decoding_3.6",
   "language": "python",
   "name": "brain-decoding_3.6"
  },
  "language_info": {
   "codemirror_mode": {
    "name": "ipython",
    "version": 3
   },
   "file_extension": ".py",
   "mimetype": "text/x-python",
   "name": "python",
   "nbconvert_exporter": "python",
   "pygments_lexer": "ipython3",
   "version": "3.6.8"
  }
 },
 "nbformat": 4,
 "nbformat_minor": 2
}
