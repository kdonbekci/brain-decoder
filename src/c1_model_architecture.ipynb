{
 "cells": [
  {
   "cell_type": "markdown",
   "metadata": {},
   "source": [
    "# Model architecture\n",
    "\n",
    "In this notebook, we will build our model and have it ready to train. We will create 3 types of models:\n",
    "        \n",
    "#### (1) Session Specific:\n",
    "\n",
    "These models will try to learn from one session's worth of data. The intuition why we decided to attempt was because of the fact that there is significant variability within sessions for the same subjects.\n",
    "\n",
    "#### (2) Subject Specific:\n",
    "These models will be trained by pooling all of the sessions' data into a big dataset. However keeps subjects apart as there is also significant between-subject variability.\n",
    "\n",
    "#### (3) General:\n",
    "This model will pool all of the data into one giant dataset and learn from every subjects every session.\n",
    "\n",
    "#### (4) Hybrid:\n",
    "This model will pool session specific models with averages."
   ]
  },
  {
   "cell_type": "code",
   "execution_count": 1,
   "metadata": {},
   "outputs": [
    {
     "name": "stderr",
     "output_type": "stream",
     "text": [
      "/home/kaandonbekci/src/modules/utils.py:2: DeprecationWarning: Python2 support is deprecated and will be removed in a future release. Consider switching to Python3.\n",
      "  import os, nilearn.plotting, nibabel\n",
      "/home/kaandonbekci/.local/lib/python2.7/site-packages/nilearn/plotting/js_plotting_utils.py:14: ImportWarning: Not importing directory 'html': missing __init__.py\n",
      "  from html import escape  # Unavailable in Py2\n",
      "/usr/local/lib/python2.7/dist-packages/pandas/_libs/__init__.py:4: RuntimeWarning: numpy.dtype size changed, may indicate binary incompatibility. Expected 96, got 88\n",
      "  from .tslib import iNaT, NaT, Timestamp, Timedelta, OutOfBoundsDatetime\n",
      "/usr/local/lib/python2.7/dist-packages/pandas/__init__.py:26: RuntimeWarning: numpy.dtype size changed, may indicate binary incompatibility. Expected 96, got 88\n",
      "  from pandas._libs import (hashtable as _hashtable,\n",
      "/usr/local/lib/python2.7/dist-packages/pandas/core/dtypes/common.py:6: RuntimeWarning: numpy.dtype size changed, may indicate binary incompatibility. Expected 96, got 88\n",
      "  from pandas._libs import algos, lib\n",
      "/usr/local/lib/python2.7/dist-packages/pandas/core/util/hashing.py:7: RuntimeWarning: numpy.dtype size changed, may indicate binary incompatibility. Expected 96, got 88\n",
      "  from pandas._libs import hashing, tslib\n",
      "/usr/local/lib/python2.7/dist-packages/pandas/core/indexes/base.py:7: RuntimeWarning: numpy.dtype size changed, may indicate binary incompatibility. Expected 96, got 88\n",
      "  from pandas._libs import (lib, index as libindex, tslib as libts,\n",
      "/usr/local/lib/python2.7/dist-packages/pandas/tseries/offsets.py:21: RuntimeWarning: numpy.dtype size changed, may indicate binary incompatibility. Expected 96, got 88\n",
      "  import pandas._libs.tslibs.offsets as liboffsets\n",
      "/usr/local/lib/python2.7/dist-packages/pandas/core/ops.py:16: RuntimeWarning: numpy.dtype size changed, may indicate binary incompatibility. Expected 96, got 88\n",
      "  from pandas._libs import algos as libalgos, ops as libops\n",
      "/usr/local/lib/python2.7/dist-packages/pandas/core/indexes/interval.py:32: RuntimeWarning: numpy.dtype size changed, may indicate binary incompatibility. Expected 96, got 88\n",
      "  from pandas._libs.interval import (\n",
      "/usr/local/lib/python2.7/dist-packages/pandas/core/internals.py:14: RuntimeWarning: numpy.dtype size changed, may indicate binary incompatibility. Expected 96, got 88\n",
      "  from pandas._libs import internals as libinternals\n",
      "/usr/local/lib/python2.7/dist-packages/pandas/core/sparse/array.py:33: RuntimeWarning: numpy.dtype size changed, may indicate binary incompatibility. Expected 96, got 88\n",
      "  import pandas._libs.sparse as splib\n",
      "/usr/local/lib/python2.7/dist-packages/pandas/core/window.py:36: RuntimeWarning: numpy.dtype size changed, may indicate binary incompatibility. Expected 96, got 88\n",
      "  import pandas._libs.window as _window\n",
      "/usr/local/lib/python2.7/dist-packages/pandas/core/groupby/groupby.py:68: RuntimeWarning: numpy.dtype size changed, may indicate binary incompatibility. Expected 96, got 88\n",
      "  from pandas._libs import (lib, reduction,\n",
      "/usr/local/lib/python2.7/dist-packages/pandas/core/reshape/reshape.py:30: RuntimeWarning: numpy.dtype size changed, may indicate binary incompatibility. Expected 96, got 88\n",
      "  from pandas._libs import algos as _algos, reshape as _reshape\n",
      "/usr/local/lib/python2.7/dist-packages/pandas/io/parsers.py:45: RuntimeWarning: numpy.dtype size changed, may indicate binary incompatibility. Expected 96, got 88\n",
      "  import pandas._libs.parsers as parsers\n",
      "/usr/local/lib/python2.7/dist-packages/pandas/io/pytables.py:50: RuntimeWarning: numpy.dtype size changed, may indicate binary incompatibility. Expected 96, got 88\n",
      "  from pandas._libs import algos, lib, writers as libwriters\n"
     ]
    }
   ],
   "source": [
    "from packages import *\n",
    "%matplotlib inline"
   ]
  },
  {
   "cell_type": "code",
   "execution_count": 2,
   "metadata": {},
   "outputs": [],
   "source": [
    "# from get_activations import get_activations\n",
    "import random"
   ]
  },
  {
   "cell_type": "code",
   "execution_count": 3,
   "metadata": {},
   "outputs": [],
   "source": [
    "from tensorflow.keras import backend as K\n",
    "from tensorflow.keras.utils import plot_model\n",
    "K.set_floatx('float32')\n",
    "from tensorflow.keras.applications import vgg16\n",
    "# from tensorflow.keras.preprocessing.image import load_img, img_to_array\n",
    "from tensorflow.keras.models import Model\n",
    "from tensorflow.keras.layers import Dense, Activation, Conv3D, MaxPooling3D, AveragePooling3D, Flatten, Input, Lambda, concatenate, Dropout, Conv3DTranspose\n",
    "from tensorflow.keras.models import load_model, save_model\n",
    "from tensorflow.keras.regularizers import l1, l2"
   ]
  },
  {
   "cell_type": "code",
   "execution_count": 4,
   "metadata": {},
   "outputs": [],
   "source": [
    "run = True\n",
    "save = True\n",
    "load = True\n",
    "check = True\n",
    "\n",
    "Y_is_pixel = False\n",
    "output_dim = 7500"
   ]
  },
  {
   "cell_type": "code",
   "execution_count": 5,
   "metadata": {},
   "outputs": [],
   "source": [
    "subject = 1\n",
    "version = 'n-drop'"
   ]
  },
  {
   "cell_type": "code",
   "execution_count": 6,
   "metadata": {},
   "outputs": [],
   "source": [
    "# vgg= vgg16.VGG16(weights='imagenet', include_top=True)"
   ]
  },
  {
   "cell_type": "code",
   "execution_count": 7,
   "metadata": {},
   "outputs": [],
   "source": [
    "# vgg.summary()"
   ]
  },
  {
   "cell_type": "code",
   "execution_count": 8,
   "metadata": {},
   "outputs": [],
   "source": [
    "# layers = vgg.layers\n",
    "# for layer in layers:\n",
    "#     print layer.name\n",
    "#     print layer.__dict__\n",
    "#     print \n",
    "#     print"
   ]
  },
  {
   "cell_type": "markdown",
   "metadata": {},
   "source": [
    "## (1) Session models\n"
   ]
  },
  {
   "cell_type": "code",
   "execution_count": 9,
   "metadata": {},
   "outputs": [],
   "source": [
    "def init_bold_session_model(subject):\n",
    "          \n",
    "    # CHANNELS LAST\n",
    "    channels = 1\n",
    "    batch_size = 1\n",
    "    \n",
    "    voxel_input = Input(shape = (12168, ), name='voxel_input')\n",
    "        \n",
    "    bold_input = Input(shape=(52, 43, 45, channels), name='bold_input')\n",
    "\n",
    "    x = Conv3D(filters=32, kernel_size=3, name='conv_1_1', padding='same', activation='relu')(bold_input)\n",
    "\n",
    "    x = Conv3D(filters=32, kernel_size=3, name='conv_1_2', padding='same', activation='relu')(x)\n",
    "    \n",
    "    x = Conv3D(filters=32, kernel_size=3, name='conv_1_3', padding='same', activation='relu')(x)\n",
    "    \n",
    "    x = Conv3D(filters=32, kernel_size=3, name='conv_1_4', padding='same', activation='relu')(x)\n",
    "\n",
    "\n",
    "    x = MaxPooling3D(pool_size= 2, name='pool_1')(x)\n",
    "#     x = AveragePooling3D(pool_size= 2, name='pool_1')(x)\n",
    "#     x_p_1_ = AveragePooling3D(pool_size= 2, name='pool_4')(x_p_1)\n",
    "\n",
    "    x = Conv3D(filters=64, kernel_size=5, name='conv_2_1', padding='same', activation='relu')(x)\n",
    "    \n",
    "    x = Conv3D(filters=64, kernel_size=5, name='conv_2_2', padding='same', activation='relu')(x)\n",
    "    \n",
    "#     x = Conv3D(filters=64, kernel_size=5, name='conv_2_3', padding='same', activation='relu')(x)\n",
    "\n",
    "#     x = Conv3D(filters=32, kernel_size=3, name='conv_2_4', padding='same', activation='relu')(x)\n",
    "    \n",
    "#     x = Conv3D(filters=32, kernel_size=3, name='conv_2_5', padding='same', activation='relu')(x)\n",
    "    \n",
    "#     x = Conv3D(filters=32, kernel_size=3, name='conv_2_6', padding='same', activation='relu')(x)\n",
    "    \n",
    "#     x = Conv3D(filters=32, kernel_size=3, name='conv_2_7', padding='same', activation='relu')(x)\n",
    "\n",
    "    x = MaxPooling3D(pool_size=2, name='pool_2')(x)\n",
    "    \n",
    "#     x = Conv3DTranspose(filters= 64, kernel_size=5, strides=2, name='deconv_1_1', padding='same', activation='relu')(x)\n",
    "    \n",
    "#     x = Conv3DTranspose(filters= 64, kernel_size=5, name='deconv_1_2', padding='same', activation='relu')(x)\n",
    "\n",
    "#     x = Conv3DTranspose(filters= 64, kernel_size=5, name='deconv_1_3', padding='same', activation='relu')(x)\n",
    "    \n",
    "#     x = Conv3DTranspose(filters= 64, kernel_size=3, strides=2, name='deconv_2_1', padding='same', activation='relu')(x)\n",
    "    \n",
    "#     x = Conv3DTranspose(filters= 64, kernel_size=3, name='deconv_2_2', padding='same', activation='relu')(x)\n",
    "    \n",
    "    x = Conv3D(filters=128, kernel_size=3, name='conv_3_1', padding='same', activation='relu')(x)\n",
    "  \n",
    "    x = Conv3D(filters=128, kernel_size=3, name='conv_3_2', padding='same', activation='relu')(x)\n",
    "    \n",
    "    x = MaxPooling3D(pool_size=2, name='pool_3')(x)\n",
    "    \n",
    "#     x = Flatten(x)\n",
    "    \n",
    "#     x = Conv3D(filters=128, kernel_size=3, name='conv_5_1', padding='same', activation='relu')(x)\n",
    "    \n",
    "#     x = Conv3D(filters=128, kernel_size=3, name='conv_5_2', padding='same', activation='relu')(x)\n",
    "    \n",
    "#     x = Conv3D(filters=64, kernel_size=3, name='conv_3_3', padding='same', activation='relu')(x)\n",
    "    \n",
    "#     x = MaxPooling3D(pool_size=2, name='pool_3')(x)\n",
    "#     x = AveragePooling3D(pool_size=2, name='pool_4')(x)\n",
    "    \n",
    "#     x = \n",
    "\n",
    "    \n",
    "    x = Flatten(name='flatten_1')(x)\n",
    "    \n",
    "    x = concatenate(inputs = [x, voxel_input])\n",
    "        \n",
    "#     x = Dense(units=output_dim ,name='dense_1', activation='relu')(x) #, kernel_regularizer=l1(.01))(x)\n",
    "    \n",
    "#     x = Dense(units=7500 ,name='dense_2', activation='relu', kernel_regularizer=l1(.01))(x)\n",
    "    \n",
    "    x = Dropout(.15, name='drop_2')(x)\n",
    "    \n",
    "    out = Dense(output_dim, activation='relu', name = 'predictions', kernel_regularizer=l1(.01))(x) #, kernel_regularizer=l1(.01))(x)\n",
    "    bold_convnet = Model(inputs = [bold_input, voxel_input], outputs = out)\n",
    "    \n",
    "    return bold_convnet"
   ]
  },
  {
   "cell_type": "code",
   "execution_count": 10,
   "metadata": {},
   "outputs": [],
   "source": [
    "sub1_conv = init_bold_session_model(1)"
   ]
  },
  {
   "cell_type": "code",
   "execution_count": 11,
   "metadata": {},
   "outputs": [
    {
     "name": "stdout",
     "output_type": "stream",
     "text": [
      "__________________________________________________________________________________________________\n",
      "Layer (type)                    Output Shape         Param #     Connected to                     \n",
      "==================================================================================================\n",
      "bold_input (InputLayer)         (None, 52, 43, 45, 1 0                                            \n",
      "__________________________________________________________________________________________________\n",
      "conv_1_1 (Conv3D)               (None, 52, 43, 45, 3 896         bold_input[0][0]                 \n",
      "__________________________________________________________________________________________________\n",
      "conv_1_2 (Conv3D)               (None, 52, 43, 45, 3 27680       conv_1_1[0][0]                   \n",
      "__________________________________________________________________________________________________\n",
      "conv_1_3 (Conv3D)               (None, 52, 43, 45, 3 27680       conv_1_2[0][0]                   \n",
      "__________________________________________________________________________________________________\n",
      "conv_1_4 (Conv3D)               (None, 52, 43, 45, 3 27680       conv_1_3[0][0]                   \n",
      "__________________________________________________________________________________________________\n",
      "pool_1 (MaxPooling3D)           (None, 26, 21, 22, 3 0           conv_1_4[0][0]                   \n",
      "__________________________________________________________________________________________________\n",
      "conv_2_1 (Conv3D)               (None, 26, 21, 22, 6 256064      pool_1[0][0]                     \n",
      "__________________________________________________________________________________________________\n",
      "conv_2_2 (Conv3D)               (None, 26, 21, 22, 6 512064      conv_2_1[0][0]                   \n",
      "__________________________________________________________________________________________________\n",
      "pool_2 (MaxPooling3D)           (None, 13, 10, 11, 6 0           conv_2_2[0][0]                   \n",
      "__________________________________________________________________________________________________\n",
      "conv_3_1 (Conv3D)               (None, 13, 10, 11, 1 221312      pool_2[0][0]                     \n",
      "__________________________________________________________________________________________________\n",
      "conv_3_2 (Conv3D)               (None, 13, 10, 11, 1 442496      conv_3_1[0][0]                   \n",
      "__________________________________________________________________________________________________\n",
      "pool_3 (MaxPooling3D)           (None, 6, 5, 5, 128) 0           conv_3_2[0][0]                   \n",
      "__________________________________________________________________________________________________\n",
      "flatten_1 (Flatten)             (None, 19200)        0           pool_3[0][0]                     \n",
      "__________________________________________________________________________________________________\n",
      "voxel_input (InputLayer)        (None, 12168)        0                                            \n",
      "__________________________________________________________________________________________________\n",
      "concatenate (Concatenate)       (None, 31368)        0           flatten_1[0][0]                  \n",
      "                                                                 voxel_input[0][0]                \n",
      "__________________________________________________________________________________________________\n",
      "drop_2 (Dropout)                (None, 31368)        0           concatenate[0][0]                \n",
      "__________________________________________________________________________________________________\n",
      "predictions (Dense)             (None, 7500)         235267500   drop_2[0][0]                     \n",
      "==================================================================================================\n",
      "Total params: 236,783,372\n",
      "Trainable params: 236,783,372\n",
      "Non-trainable params: 0\n",
      "__________________________________________________________________________________________________\n"
     ]
    }
   ],
   "source": [
    "sub1_conv.summary()"
   ]
  },
  {
   "cell_type": "code",
   "execution_count": 12,
   "metadata": {},
   "outputs": [],
   "source": [
    "plot_model(sub1_conv)"
   ]
  },
  {
   "cell_type": "code",
   "execution_count": 13,
   "metadata": {},
   "outputs": [
    {
     "name": "stdout",
     "output_type": "stream",
     "text": [
      "Saved model.\n"
     ]
    }
   ],
   "source": [
    "if save:\n",
    "    sub1_conv.save(os.path.join(UNTRAINED_MODELS_DIR, 'sub-{}_mod-{}'.format(subject,version)))\n",
    "    print 'Saved model.'"
   ]
  },
  {
   "cell_type": "code",
   "execution_count": 29,
   "metadata": {},
   "outputs": [
    {
     "data": {
      "text/plain": [
       "321300"
      ]
     },
     "execution_count": 29,
     "metadata": {},
     "output_type": "execute_result"
    }
   ],
   "source": [
    "25*18*21*64"
   ]
  },
  {
   "cell_type": "code",
   "execution_count": 20,
   "metadata": {},
   "outputs": [
    {
     "data": {
      "text/plain": [
       "69120"
      ]
     },
     "execution_count": 20,
     "metadata": {},
     "output_type": "execute_result"
    }
   ],
   "source": [
    "12*9*10*64"
   ]
  },
  {
   "cell_type": "code",
   "execution_count": 22,
   "metadata": {},
   "outputs": [
    {
     "data": {
      "text/plain": [
       "15360"
      ]
     },
     "execution_count": 22,
     "metadata": {},
     "output_type": "execute_result"
    }
   ],
   "source": [
    "6*4*5*128"
   ]
  },
  {
   "cell_type": "code",
   "execution_count": null,
   "metadata": {},
   "outputs": [],
   "source": []
  }
 ],
 "metadata": {
  "kernelspec": {
   "display_name": "Python 2",
   "language": "python",
   "name": "python2"
  },
  "language_info": {
   "codemirror_mode": {
    "name": "ipython",
    "version": 2
   },
   "file_extension": ".py",
   "mimetype": "text/x-python",
   "name": "python",
   "nbconvert_exporter": "python",
   "pygments_lexer": "ipython2",
   "version": "2.7.13"
  }
 },
 "nbformat": 4,
 "nbformat_minor": 2
}
