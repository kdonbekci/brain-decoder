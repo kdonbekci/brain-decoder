{
 "cells": [
  {
   "cell_type": "markdown",
   "metadata": {},
   "source": [
    "# Export Data"
   ]
  },
  {
   "cell_type": "code",
   "execution_count": 70,
   "metadata": {},
   "outputs": [],
   "source": [
    "from packages import *\n",
    "%matplotlib inline"
   ]
  },
  {
   "cell_type": "code",
   "execution_count": 71,
   "metadata": {},
   "outputs": [],
   "source": [
    "from collections import Counter"
   ]
  },
  {
   "cell_type": "code",
   "execution_count": 72,
   "metadata": {},
   "outputs": [],
   "source": [
    "from tensorflow.keras.preprocessing.image import load_img, img_to_array\n",
    "from tensorflow.keras.applications import vgg16"
   ]
  },
  {
   "cell_type": "code",
   "execution_count": 73,
   "metadata": {},
   "outputs": [],
   "source": [
    "subject = 1\n",
    "data_session = 2\n",
    "data_version = ['c', 'd']\n",
    "label_version = 'c'"
   ]
  },
  {
   "cell_type": "code",
   "execution_count": 74,
   "metadata": {},
   "outputs": [],
   "source": [
    "sample_data = True\n",
    "save_data = True"
   ]
  },
  {
   "cell_type": "code",
   "execution_count": 75,
   "metadata": {},
   "outputs": [],
   "source": [
    "X = {}\n",
    "for v in data_version:\n",
    "    X[v] = numpy_load('X_sub-{}_ses-{}_{}.npy'.format(subject, data_session, v), os.path.join(DATASET_X_DIR, v))\n",
    "Y = numpy_load('Y_sub-{}_ses-{}_{}.npy'.format(subject, data_session, label_version), os.path.join(DATASET_Y_DIR, label_version))"
   ]
  },
  {
   "cell_type": "code",
   "execution_count": 76,
   "metadata": {},
   "outputs": [],
   "source": [
    "def convert_bytes(num):\n",
    "    \"\"\"\n",
    "    this function will convert bytes to MB.... GB... etc\n",
    "    \"\"\"\n",
    "    step_unit = 1000.0 #1024 bad the size\n",
    "\n",
    "    for x in ['bytes', 'KB', 'MB', 'GB', 'TB']:\n",
    "        if num < step_unit:\n",
    "            return \"%3.1f %s\" % (num, x)\n",
    "        num /= step_unit"
   ]
  },
  {
   "cell_type": "code",
   "execution_count": 77,
   "metadata": {},
   "outputs": [],
   "source": [
    "sample_num = 50"
   ]
  },
  {
   "cell_type": "code",
   "execution_count": 78,
   "metadata": {},
   "outputs": [],
   "source": [
    "if sample_data:\n",
    "    indices = np.arange(len(Y))\n",
    "    sample_indices = np.random.choice(indices, sample_num, replace=False)"
   ]
  },
  {
   "cell_type": "code",
   "execution_count": 79,
   "metadata": {},
   "outputs": [],
   "source": [
    "if sample_data:\n",
    "    X_sample = {}\n",
    "    for key in X:\n",
    "        X_sample[key] = np.take(X[key], sample_indices, axis=0)\n",
    "    Y_sample = np.take(Y, sample_indices, axis=0)\n",
    "else:\n",
    "    # read from .gz\n",
    "    pass"
   ]
  },
  {
   "cell_type": "code",
   "execution_count": 80,
   "metadata": {},
   "outputs": [
    {
     "name": "stdout",
     "output_type": "stream",
     "text": [
      "Data size: 370\n",
      "X[c] size: 148.9 MB\n",
      "X[d] size: 18.0 MB\n",
      "Y size: 11.1 MB\n"
     ]
    }
   ],
   "source": [
    "print 'Data size: {}'.format(len(Y))\n",
    "for key in X:\n",
    "    print 'X[{}] size: {}'.format(key, convert_bytes(X[key].nbytes))\n",
    "print 'Y size: {}'.format(convert_bytes(Y.nbytes))"
   ]
  },
  {
   "cell_type": "code",
   "execution_count": 81,
   "metadata": {},
   "outputs": [
    {
     "name": "stdout",
     "output_type": "stream",
     "text": [
      "Sample size: 50\n",
      "X_sample[c] size: 20.1 MB bytes\n",
      "X_sample[d] size: 2.4 MB bytes\n",
      "Y_sample size: 1.5 MB bytes\n"
     ]
    }
   ],
   "source": [
    "print 'Sample size: {}'.format(len(Y_sample))\n",
    "for key in X:\n",
    "    print 'X_sample[{}] size: {} bytes'.format(key, convert_bytes(X_sample[key].nbytes))\n",
    "print 'Y_sample size: {} bytes'.format(convert_bytes(Y_sample.nbytes))"
   ]
  },
  {
   "cell_type": "code",
   "execution_count": 83,
   "metadata": {},
   "outputs": [
    {
     "name": "stdout",
     "output_type": "stream",
     "text": [
      "Saved data samples.\n"
     ]
    }
   ],
   "source": [
    "if save_data:\n",
    "    submission_data_dir = os.path.join(DUMP_DIR, 'submission/')\n",
    "    for key in data_version:\n",
    "        numpy_save(X[key], 'test-data_X_sub-{}_ses-{}_{}'.format(subject, data_session, key), submission_data_dir)\n",
    "    numpy_save(Y, 'test-data_Y_sub-{}_ses-{}_{}'.format(subject, data_session, label_version), submission_data_dir)\n",
    "    print 'Saved data samples.'"
   ]
  },
  {
   "cell_type": "markdown",
   "metadata": {},
   "source": [
    "## Gzip data"
   ]
  },
  {
   "cell_type": "code",
   "execution_count": 52,
   "metadata": {},
   "outputs": [],
   "source": [
    "import gzip"
   ]
  },
  {
   "cell_type": "code",
   "execution_count": 84,
   "metadata": {},
   "outputs": [],
   "source": [
    "def gzip_file(data, filename, dir):\n",
    "    filename = os.path.join(dir, '{}.gz'.format(filename))\n",
    "    with gzip.open(filename, 'wb') as f:\n",
    "        numpy_save(data, f)\n",
    "    print 'Wrote to {}. Size: {}'.format(filename, convert_bytes(os.path.getsize(filename)))"
   ]
  },
  {
   "cell_type": "code",
   "execution_count": 87,
   "metadata": {},
   "outputs": [
    {
     "data": {
      "text/plain": [
       "('c', 'd')"
      ]
     },
     "execution_count": 87,
     "metadata": {},
     "output_type": "execute_result"
    }
   ],
   "source": [
    "data_version[0], data_version[1]"
   ]
  },
  {
   "cell_type": "code",
   "execution_count": 114,
   "metadata": {},
   "outputs": [
    {
     "name": "stdout",
     "output_type": "stream",
     "text": [
      "Saved zipped data samples.\n"
     ]
    }
   ],
   "source": [
    "submission_data_dir = os.path.join(DUMP_DIR, 'submission/')\n",
    "#     for key in data_version:\n",
    "#         gzip_file(X_sample[key], 'test-data_X_sub-{}_ses-{}_{}'.format(subject, data_session, key), submission_data_dir)\n",
    "#     gzip_file(Y_sample, 'test-data_Y_sub-{}_ses-{}_{}'.format(subject, data_session, label_version), submission_data_dir)\n",
    "#     print 'Saved gzipped data samples.'\n",
    "# else:\n",
    "#     print 'Not saving gzipped data.'\n",
    "\n",
    "# data = {}\n",
    "X_bold = X_sample[data_version[0]]\n",
    "X_voxel = X_sample[data_version[1]]\n",
    "Y = Y_sample\n",
    "\n",
    "if save_data:\n",
    "    name = os.path.join(submission_data_dir, 'test-data_sub-{}_ses-{}'.format(subject, data_session))\n",
    "    \n",
    "    np.savez_compressed(name, x_bold=X_bold, x_voxel=X_voxel, y=Y)\n",
    "    print 'Saved zipped data samples.'\n",
    "else:\n",
    "    print 'Not saving zipped data.'\n"
   ]
  },
  {
   "cell_type": "code",
   "execution_count": 115,
   "metadata": {},
   "outputs": [],
   "source": [
    "loaded = np.load('{}.npz'.format(name))"
   ]
  },
  {
   "cell_type": "code",
   "execution_count": 116,
   "metadata": {},
   "outputs": [
    {
     "data": {
      "text/plain": [
       "['y', 'x_voxel', 'x_bold']"
      ]
     },
     "execution_count": 116,
     "metadata": {},
     "output_type": "execute_result"
    }
   ],
   "source": [
    "loaded.keys()"
   ]
  },
  {
   "cell_type": "code",
   "execution_count": 117,
   "metadata": {},
   "outputs": [
    {
     "name": "stdout",
     "output_type": "stream",
     "text": [
      "y (50, 7500)\n",
      "x_voxel (50, 7500)\n",
      "x_bold (50, 52, 43, 45)\n"
     ]
    }
   ],
   "source": [
    "for k in loaded:\n",
    "    print k, loaded[k].shape"
   ]
  },
  {
   "cell_type": "markdown",
   "metadata": {},
   "source": [
    "# Export model"
   ]
  },
  {
   "cell_type": "code",
   "execution_count": 55,
   "metadata": {},
   "outputs": [],
   "source": [
    "import yaml"
   ]
  },
  {
   "cell_type": "code",
   "execution_count": 56,
   "metadata": {},
   "outputs": [],
   "source": [
    "subject = 1\n",
    "session = 1\n",
    "model_version = 'n-no-reg'"
   ]
  },
  {
   "cell_type": "code",
   "execution_count": 57,
   "metadata": {},
   "outputs": [],
   "source": [
    "model_name = 'sub-{}_ses-{}_mod-{}_data-{}_lab-{}'.format(subject, session, model_version, '-'.join(data_version), label_version)"
   ]
  },
  {
   "cell_type": "code",
   "execution_count": 90,
   "metadata": {},
   "outputs": [],
   "source": [
    "loading_model = False\n",
    "saving_model = False"
   ]
  },
  {
   "cell_type": "code",
   "execution_count": 91,
   "metadata": {},
   "outputs": [],
   "source": [
    "from tensorflow.keras.models import load_model"
   ]
  },
  {
   "cell_type": "code",
   "execution_count": 92,
   "metadata": {},
   "outputs": [],
   "source": [
    "def r2_keras(y_true, y_pred):\n",
    "    SS_res =  K.sum(K.square(y_true - y_pred)) \n",
    "    SS_tot = K.sum(K.square(y_true - K.mean(y_true))) \n",
    "    return ( 1 - SS_res/(SS_tot + K.epsilon()) )"
   ]
  },
  {
   "cell_type": "code",
   "execution_count": 93,
   "metadata": {},
   "outputs": [
    {
     "name": "stdout",
     "output_type": "stream",
     "text": [
      "Not loading model.\n"
     ]
    }
   ],
   "source": [
    "if loading_model:\n",
    "    test_model = load_model(os.path.join(TRAINED_MODELS_DIR, model_name), compile=False)\n",
    "else:\n",
    "    print 'Not loading model.'"
   ]
  },
  {
   "cell_type": "code",
   "execution_count": 94,
   "metadata": {},
   "outputs": [],
   "source": [
    "if saving_model:\n",
    "    yaml_string = test_model.to_yaml()\n",
    "    architecture_filename = '{}_architecture.yml'.format(model_name)\n",
    "    print architecture_filename\n",
    "    with open(architecture_filename, 'wb') as f:\n",
    "        yaml.dump(yaml_string, f)"
   ]
  },
  {
   "cell_type": "code",
   "execution_count": null,
   "metadata": {},
   "outputs": [],
   "source": []
  }
 ],
 "metadata": {
  "kernelspec": {
   "display_name": "Python 2",
   "language": "python",
   "name": "python2"
  },
  "language_info": {
   "codemirror_mode": {
    "name": "ipython",
    "version": 2
   },
   "file_extension": ".py",
   "mimetype": "text/x-python",
   "name": "python",
   "nbconvert_exporter": "python",
   "pygments_lexer": "ipython2",
   "version": "2.7.13"
  }
 },
 "nbformat": 4,
 "nbformat_minor": 2
}
