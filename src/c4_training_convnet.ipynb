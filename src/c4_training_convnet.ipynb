{
 "cells": [
  {
   "cell_type": "markdown",
   "metadata": {},
   "source": [
    "# Training CONVNET"
   ]
  },
  {
   "cell_type": "code",
   "execution_count": 1,
   "metadata": {},
   "outputs": [
    {
     "name": "stderr",
     "output_type": "stream",
     "text": [
      "/home/kaandonbekci/src/modules/utils.py:2: DeprecationWarning: Python2 support is deprecated and will be removed in a future release. Consider switching to Python3.\n",
      "  import os, nilearn.plotting, nibabel\n",
      "/home/kaandonbekci/.local/lib/python2.7/site-packages/nilearn/plotting/js_plotting_utils.py:14: ImportWarning: Not importing directory 'html': missing __init__.py\n",
      "  from html import escape  # Unavailable in Py2\n",
      "/usr/local/lib/python2.7/dist-packages/pandas/_libs/__init__.py:4: RuntimeWarning: numpy.dtype size changed, may indicate binary incompatibility. Expected 96, got 88\n",
      "  from .tslib import iNaT, NaT, Timestamp, Timedelta, OutOfBoundsDatetime\n",
      "/usr/local/lib/python2.7/dist-packages/pandas/__init__.py:26: RuntimeWarning: numpy.dtype size changed, may indicate binary incompatibility. Expected 96, got 88\n",
      "  from pandas._libs import (hashtable as _hashtable,\n",
      "/usr/local/lib/python2.7/dist-packages/pandas/core/dtypes/common.py:6: RuntimeWarning: numpy.dtype size changed, may indicate binary incompatibility. Expected 96, got 88\n",
      "  from pandas._libs import algos, lib\n",
      "/usr/local/lib/python2.7/dist-packages/pandas/core/util/hashing.py:7: RuntimeWarning: numpy.dtype size changed, may indicate binary incompatibility. Expected 96, got 88\n",
      "  from pandas._libs import hashing, tslib\n",
      "/usr/local/lib/python2.7/dist-packages/pandas/core/indexes/base.py:7: RuntimeWarning: numpy.dtype size changed, may indicate binary incompatibility. Expected 96, got 88\n",
      "  from pandas._libs import (lib, index as libindex, tslib as libts,\n",
      "/usr/local/lib/python2.7/dist-packages/pandas/tseries/offsets.py:21: RuntimeWarning: numpy.dtype size changed, may indicate binary incompatibility. Expected 96, got 88\n",
      "  import pandas._libs.tslibs.offsets as liboffsets\n",
      "/usr/local/lib/python2.7/dist-packages/pandas/core/ops.py:16: RuntimeWarning: numpy.dtype size changed, may indicate binary incompatibility. Expected 96, got 88\n",
      "  from pandas._libs import algos as libalgos, ops as libops\n",
      "/usr/local/lib/python2.7/dist-packages/pandas/core/indexes/interval.py:32: RuntimeWarning: numpy.dtype size changed, may indicate binary incompatibility. Expected 96, got 88\n",
      "  from pandas._libs.interval import (\n",
      "/usr/local/lib/python2.7/dist-packages/pandas/core/internals.py:14: RuntimeWarning: numpy.dtype size changed, may indicate binary incompatibility. Expected 96, got 88\n",
      "  from pandas._libs import internals as libinternals\n",
      "/usr/local/lib/python2.7/dist-packages/pandas/core/sparse/array.py:33: RuntimeWarning: numpy.dtype size changed, may indicate binary incompatibility. Expected 96, got 88\n",
      "  import pandas._libs.sparse as splib\n",
      "/usr/local/lib/python2.7/dist-packages/pandas/core/window.py:36: RuntimeWarning: numpy.dtype size changed, may indicate binary incompatibility. Expected 96, got 88\n",
      "  import pandas._libs.window as _window\n",
      "/usr/local/lib/python2.7/dist-packages/pandas/core/groupby/groupby.py:68: RuntimeWarning: numpy.dtype size changed, may indicate binary incompatibility. Expected 96, got 88\n",
      "  from pandas._libs import (lib, reduction,\n",
      "/usr/local/lib/python2.7/dist-packages/pandas/core/reshape/reshape.py:30: RuntimeWarning: numpy.dtype size changed, may indicate binary incompatibility. Expected 96, got 88\n",
      "  from pandas._libs import algos as _algos, reshape as _reshape\n",
      "/usr/local/lib/python2.7/dist-packages/pandas/io/parsers.py:45: RuntimeWarning: numpy.dtype size changed, may indicate binary incompatibility. Expected 96, got 88\n",
      "  import pandas._libs.parsers as parsers\n",
      "/usr/local/lib/python2.7/dist-packages/pandas/io/pytables.py:50: RuntimeWarning: numpy.dtype size changed, may indicate binary incompatibility. Expected 96, got 88\n",
      "  from pandas._libs import algos, lib, writers as libwriters\n"
     ]
    }
   ],
   "source": [
    "from packages import *\n",
    "%matplotlib inline"
   ]
  },
  {
   "cell_type": "code",
   "execution_count": 2,
   "metadata": {},
   "outputs": [],
   "source": [
    "import tensorflow as tf"
   ]
  },
  {
   "cell_type": "code",
   "execution_count": 3,
   "metadata": {},
   "outputs": [],
   "source": [
    "from tensorflow.keras import backend as K\n",
    "K.set_floatx('float32')\n",
    "from tensorflow.keras.models import load_model\n",
    "from sklearn.model_selection import train_test_split"
   ]
  },
  {
   "cell_type": "code",
   "execution_count": 4,
   "metadata": {},
   "outputs": [],
   "source": [
    "fresh = True"
   ]
  },
  {
   "cell_type": "code",
   "execution_count": 5,
   "metadata": {},
   "outputs": [],
   "source": [
    "subject = 1\n",
    "session = 1\n",
    "epochs = 100\n",
    "batch_size = 2\n",
    "model_version = 'n-drop'\n",
    "data_version = ['c', 'd']\n",
    "label_version = 'c'"
   ]
  },
  {
   "cell_type": "code",
   "execution_count": 6,
   "metadata": {},
   "outputs": [],
   "source": [
    "# ADDED IN UTILS.PY NOW\n",
    "#######################\n",
    "# def r2_keras(y_true, y_pred):\n",
    "#     SS_res =  K.sum(K.square(y_true - y_pred)) \n",
    "#     SS_tot = K.sum(K.square(y_true - K.mean(y_true))) \n",
    "#     return ( 1 - SS_res/(SS_tot + K.epsilon()) )"
   ]
  },
  {
   "cell_type": "code",
   "execution_count": 7,
   "metadata": {},
   "outputs": [
    {
     "name": "stdout",
     "output_type": "stream",
     "text": [
      "WARNING:tensorflow:No training configuration found in save file: the model was *not* compiled. Compile it manually.\n"
     ]
    }
   ],
   "source": [
    "if fresh:\n",
    "    test_model = load_model(os.path.join(UNTRAINED_MODELS_DIR, 'sub-{}_mod-{}'.format(subject, model_version)))\n",
    "else:\n",
    "    test_model = load_model(os.path.join(TRAINED_MODELS_DIR, \n",
    "                            'sub-{}_mod-{}_data-{}_lab-{}'.format(subject, model_version, data_version, label_version)))\n",
    "    "
   ]
  },
  {
   "cell_type": "code",
   "execution_count": 8,
   "metadata": {},
   "outputs": [
    {
     "name": "stdout",
     "output_type": "stream",
     "text": [
      "__________________________________________________________________________________________________\n",
      "Layer (type)                    Output Shape         Param #     Connected to                     \n",
      "==================================================================================================\n",
      "bold_input (InputLayer)         (None, 52, 43, 45, 1 0                                            \n",
      "__________________________________________________________________________________________________\n",
      "conv_1_1 (Conv3D)               (None, 52, 43, 45, 3 896         bold_input[0][0]                 \n",
      "__________________________________________________________________________________________________\n",
      "conv_1_2 (Conv3D)               (None, 52, 43, 45, 3 27680       conv_1_1[0][0]                   \n",
      "__________________________________________________________________________________________________\n",
      "conv_1_3 (Conv3D)               (None, 52, 43, 45, 3 27680       conv_1_2[0][0]                   \n",
      "__________________________________________________________________________________________________\n",
      "conv_1_4 (Conv3D)               (None, 52, 43, 45, 3 27680       conv_1_3[0][0]                   \n",
      "__________________________________________________________________________________________________\n",
      "pool_1 (MaxPooling3D)           (None, 26, 21, 22, 3 0           conv_1_4[0][0]                   \n",
      "__________________________________________________________________________________________________\n",
      "conv_2_1 (Conv3D)               (None, 26, 21, 22, 6 256064      pool_1[0][0]                     \n",
      "__________________________________________________________________________________________________\n",
      "conv_2_2 (Conv3D)               (None, 26, 21, 22, 6 512064      conv_2_1[0][0]                   \n",
      "__________________________________________________________________________________________________\n",
      "pool_2 (MaxPooling3D)           (None, 13, 10, 11, 6 0           conv_2_2[0][0]                   \n",
      "__________________________________________________________________________________________________\n",
      "conv_3_1 (Conv3D)               (None, 13, 10, 11, 1 221312      pool_2[0][0]                     \n",
      "__________________________________________________________________________________________________\n",
      "conv_3_2 (Conv3D)               (None, 13, 10, 11, 1 442496      conv_3_1[0][0]                   \n",
      "__________________________________________________________________________________________________\n",
      "pool_3 (MaxPooling3D)           (None, 6, 5, 5, 128) 0           conv_3_2[0][0]                   \n",
      "__________________________________________________________________________________________________\n",
      "flatten_1 (Flatten)             (None, 19200)        0           pool_3[0][0]                     \n",
      "__________________________________________________________________________________________________\n",
      "voxel_input (InputLayer)        (None, 12168)        0                                            \n",
      "__________________________________________________________________________________________________\n",
      "concatenate (Concatenate)       (None, 31368)        0           flatten_1[0][0]                  \n",
      "                                                                 voxel_input[0][0]                \n",
      "__________________________________________________________________________________________________\n",
      "drop_2 (Dropout)                (None, 31368)        0           concatenate[0][0]                \n",
      "__________________________________________________________________________________________________\n",
      "predictions (Dense)             (None, 7500)         235267500   drop_2[0][0]                     \n",
      "==================================================================================================\n",
      "Total params: 236,783,372\n",
      "Trainable params: 236,783,372\n",
      "Non-trainable params: 0\n",
      "__________________________________________________________________________________________________\n"
     ]
    }
   ],
   "source": [
    "test_model.summary()"
   ]
  },
  {
   "cell_type": "code",
   "execution_count": 9,
   "metadata": {},
   "outputs": [],
   "source": [
    "X = {}\n",
    "for v in data_version:\n",
    "    X[v] = numpy_load('X_sub-{}_ses-{}_{}.npy'.format(subject, session, v), os.path.join(DATASET_X_DIR, v))\n",
    "Y = numpy_load('Y_sub-{}_ses-{}_{}.npy'.format(subject, session, label_version), os.path.join(DATASET_Y_DIR, label_version))"
   ]
  },
  {
   "cell_type": "code",
   "execution_count": 10,
   "metadata": {},
   "outputs": [],
   "source": [
    "X['c'] = np.expand_dims(X['c'], len(X['c'].shape))          "
   ]
  },
  {
   "cell_type": "code",
   "execution_count": 11,
   "metadata": {},
   "outputs": [],
   "source": [
    "X_bold_train, X_bold_test, y_train, y_test = train_test_split(X['c'], Y, test_size=0.10, random_state=42)"
   ]
  },
  {
   "cell_type": "code",
   "execution_count": 12,
   "metadata": {},
   "outputs": [],
   "source": [
    "X_voxel_train, X_voxel_test = train_test_split(X['d'], test_size=0.10, random_state=42)"
   ]
  },
  {
   "cell_type": "code",
   "execution_count": 13,
   "metadata": {},
   "outputs": [],
   "source": [
    "if fresh:\n",
    "    test_model.compile(optimizer = 'adam',\n",
    "                  loss = 'mse',\n",
    "                  metrics = ['mae', r2_keras])"
   ]
  },
  {
   "cell_type": "code",
   "execution_count": 14,
   "metadata": {},
   "outputs": [
    {
     "data": {
      "text/plain": [
       "(370, 7500)"
      ]
     },
     "execution_count": 14,
     "metadata": {},
     "output_type": "execute_result"
    }
   ],
   "source": [
    "Y.shape"
   ]
  },
  {
   "cell_type": "code",
   "execution_count": 31,
   "metadata": {},
   "outputs": [
    {
     "name": "stdout",
     "output_type": "stream",
     "text": [
      "Epoch 1/100\n",
      "333/333 [==============================] - 21s 64ms/step - loss: 4873.2344 - mean_absolute_error: 59.0717 - r2_keras: -0.0407\n",
      "Epoch 2/100\n",
      "333/333 [==============================] - 13s 40ms/step - loss: 4818.3103 - mean_absolute_error: 58.7269 - r2_keras: -0.0204\n",
      "Epoch 3/100\n",
      "333/333 [==============================] - 13s 40ms/step - loss: 4735.4134 - mean_absolute_error: 58.1386 - r2_keras: -0.0120\n",
      "Epoch 4/100\n",
      "333/333 [==============================] - 13s 40ms/step - loss: 4668.4605 - mean_absolute_error: 57.6463 - r2_keras: 0.0086\n",
      "Epoch 5/100\n",
      "333/333 [==============================] - 13s 40ms/step - loss: 4596.8608 - mean_absolute_error: 57.0467 - r2_keras: 0.0185\n",
      "Epoch 6/100\n",
      "333/333 [==============================] - 13s 40ms/step - loss: 4545.8245 - mean_absolute_error: 56.5926 - r2_keras: 0.0286\n",
      "Epoch 7/100\n",
      "333/333 [==============================] - 13s 40ms/step - loss: 4494.7292 - mean_absolute_error: 56.1622 - r2_keras: 0.0339\n",
      "Epoch 8/100\n",
      "333/333 [==============================] - 13s 40ms/step - loss: 4441.3031 - mean_absolute_error: 55.7035 - r2_keras: 0.0471\n",
      "Epoch 9/100\n",
      "333/333 [==============================] - 13s 40ms/step - loss: 4414.9671 - mean_absolute_error: 55.4757 - r2_keras: 0.0566\n",
      "Epoch 10/100\n",
      "333/333 [==============================] - 13s 40ms/step - loss: 4352.5605 - mean_absolute_error: 54.9098 - r2_keras: 0.0729\n",
      "Epoch 11/100\n",
      "333/333 [==============================] - 13s 40ms/step - loss: 4301.8112 - mean_absolute_error: 54.4002 - r2_keras: 0.0772\n",
      "Epoch 12/100\n",
      "333/333 [==============================] - 13s 40ms/step - loss: 4261.4904 - mean_absolute_error: 53.9963 - r2_keras: 0.0827\n",
      "Epoch 13/100\n",
      "333/333 [==============================] - 13s 40ms/step - loss: 4233.7214 - mean_absolute_error: 53.7334 - r2_keras: 0.0994\n",
      "Epoch 14/100\n",
      "333/333 [==============================] - 13s 40ms/step - loss: 4199.1512 - mean_absolute_error: 53.3727 - r2_keras: 0.1063\n",
      "Epoch 15/100\n",
      "333/333 [==============================] - 13s 40ms/step - loss: 4168.5743 - mean_absolute_error: 53.0557 - r2_keras: 0.1145\n",
      "Epoch 16/100\n",
      "333/333 [==============================] - 13s 40ms/step - loss: 4141.2515 - mean_absolute_error: 52.7799 - r2_keras: 0.1121\n",
      "Epoch 17/100\n",
      "333/333 [==============================] - 13s 40ms/step - loss: 4106.2448 - mean_absolute_error: 52.4327 - r2_keras: 0.1260\n",
      "Epoch 18/100\n",
      "333/333 [==============================] - 13s 40ms/step - loss: 4073.5686 - mean_absolute_error: 52.0637 - r2_keras: 0.1379\n",
      "Epoch 19/100\n",
      "333/333 [==============================] - 13s 40ms/step - loss: 4058.4599 - mean_absolute_error: 51.9247 - r2_keras: 0.1404\n",
      "Epoch 20/100\n",
      "333/333 [==============================] - 13s 40ms/step - loss: 4041.1807 - mean_absolute_error: 51.7140 - r2_keras: 0.1404\n",
      "Epoch 21/100\n",
      "333/333 [==============================] - 13s 40ms/step - loss: 4032.5484 - mean_absolute_error: 51.6788 - r2_keras: 0.1385\n",
      "Epoch 22/100\n",
      "333/333 [==============================] - 13s 40ms/step - loss: 4030.1343 - mean_absolute_error: 51.6310 - r2_keras: 0.1410\n",
      "Epoch 23/100\n",
      "333/333 [==============================] - 13s 40ms/step - loss: 4010.1607 - mean_absolute_error: 51.4404 - r2_keras: 0.1479\n",
      "Epoch 24/100\n",
      "333/333 [==============================] - 13s 40ms/step - loss: 3993.3760 - mean_absolute_error: 51.2407 - r2_keras: 0.1354\n",
      "Epoch 25/100\n",
      "333/333 [==============================] - 13s 40ms/step - loss: 3967.1705 - mean_absolute_error: 50.9211 - r2_keras: 0.1535\n",
      "Epoch 26/100\n",
      "333/333 [==============================] - 13s 40ms/step - loss: 3933.6760 - mean_absolute_error: 50.5565 - r2_keras: 0.1478\n",
      "Epoch 27/100\n",
      "333/333 [==============================] - 13s 40ms/step - loss: 3932.7238 - mean_absolute_error: 50.4831 - r2_keras: 0.1646\n",
      "Epoch 28/100\n",
      "333/333 [==============================] - 13s 40ms/step - loss: 3905.9321 - mean_absolute_error: 50.2278 - r2_keras: 0.1674\n",
      "Epoch 29/100\n",
      "333/333 [==============================] - 13s 40ms/step - loss: 3901.1730 - mean_absolute_error: 50.1338 - r2_keras: 0.1600\n",
      "Epoch 30/100\n",
      "333/333 [==============================] - 13s 40ms/step - loss: 3895.9154 - mean_absolute_error: 50.0946 - r2_keras: 0.1709\n",
      "Epoch 31/100\n",
      "333/333 [==============================] - 13s 40ms/step - loss: 3888.9613 - mean_absolute_error: 50.0397 - r2_keras: 0.1699\n",
      "Epoch 32/100\n",
      "333/333 [==============================] - 13s 40ms/step - loss: 3877.5259 - mean_absolute_error: 49.9269 - r2_keras: 0.1680\n",
      "Epoch 33/100\n",
      "333/333 [==============================] - 13s 40ms/step - loss: 3870.3029 - mean_absolute_error: 49.8585 - r2_keras: 0.1720\n",
      "Epoch 34/100\n",
      "333/333 [==============================] - 13s 40ms/step - loss: 3871.1090 - mean_absolute_error: 49.8042 - r2_keras: 0.1824\n",
      "Epoch 35/100\n",
      "333/333 [==============================] - 13s 40ms/step - loss: 3862.1110 - mean_absolute_error: 49.7782 - r2_keras: 0.1756\n",
      "Epoch 36/100\n",
      "333/333 [==============================] - 13s 40ms/step - loss: 3856.2630 - mean_absolute_error: 49.7561 - r2_keras: 0.1702\n",
      "Epoch 37/100\n",
      "333/333 [==============================] - 13s 40ms/step - loss: 3853.2210 - mean_absolute_error: 49.7296 - r2_keras: 0.1792\n",
      "Epoch 38/100\n",
      "333/333 [==============================] - 13s 40ms/step - loss: 3847.0332 - mean_absolute_error: 49.7007 - r2_keras: 0.1744\n",
      "Epoch 39/100\n",
      "333/333 [==============================] - 13s 40ms/step - loss: 3841.9155 - mean_absolute_error: 49.6246 - r2_keras: 0.1781\n",
      "Epoch 40/100\n",
      "333/333 [==============================] - 13s 40ms/step - loss: 3836.4337 - mean_absolute_error: 49.5686 - r2_keras: 0.1815\n",
      "Epoch 41/100\n",
      "333/333 [==============================] - 13s 40ms/step - loss: 3823.8609 - mean_absolute_error: 49.4301 - r2_keras: 0.1863\n",
      "Epoch 42/100\n",
      "333/333 [==============================] - 13s 40ms/step - loss: 3826.2383 - mean_absolute_error: 49.4310 - r2_keras: 0.1851\n",
      "Epoch 43/100\n",
      "333/333 [==============================] - 13s 40ms/step - loss: 3835.4113 - mean_absolute_error: 49.5203 - r2_keras: 0.1884\n",
      "Epoch 44/100\n",
      "333/333 [==============================] - 13s 40ms/step - loss: 3827.7158 - mean_absolute_error: 49.4731 - r2_keras: 0.1757\n",
      "Epoch 45/100\n",
      "333/333 [==============================] - 13s 40ms/step - loss: 3817.5324 - mean_absolute_error: 49.3770 - r2_keras: 0.1793\n",
      "Epoch 46/100\n",
      "333/333 [==============================] - 13s 40ms/step - loss: 3792.9427 - mean_absolute_error: 49.0817 - r2_keras: 0.1919\n",
      "Epoch 47/100\n",
      "333/333 [==============================] - 13s 40ms/step - loss: 3782.3940 - mean_absolute_error: 48.9168 - r2_keras: 0.1950\n",
      "Epoch 48/100\n",
      "333/333 [==============================] - 13s 40ms/step - loss: 3770.4475 - mean_absolute_error: 48.7753 - r2_keras: 0.1996\n",
      "Epoch 49/100\n",
      "333/333 [==============================] - 13s 40ms/step - loss: 3755.6788 - mean_absolute_error: 48.5731 - r2_keras: 0.2055\n",
      "Epoch 50/100\n",
      "333/333 [==============================] - 13s 40ms/step - loss: 3746.7510 - mean_absolute_error: 48.5105 - r2_keras: 0.1985\n",
      "Epoch 51/100\n",
      "333/333 [==============================] - 13s 40ms/step - loss: 3744.3735 - mean_absolute_error: 48.4084 - r2_keras: 0.2002\n",
      "Epoch 52/100\n",
      "333/333 [==============================] - 13s 40ms/step - loss: 3732.1393 - mean_absolute_error: 48.2557 - r2_keras: 0.2051\n",
      "Epoch 53/100\n",
      "333/333 [==============================] - 13s 40ms/step - loss: 3717.5774 - mean_absolute_error: 48.0680 - r2_keras: 0.2028\n",
      "Epoch 54/100\n",
      "333/333 [==============================] - 13s 40ms/step - loss: 3701.7997 - mean_absolute_error: 47.8943 - r2_keras: 0.2018\n",
      "Epoch 55/100\n",
      "333/333 [==============================] - 13s 40ms/step - loss: 3699.9413 - mean_absolute_error: 47.8571 - r2_keras: 0.2122\n",
      "Epoch 56/100\n",
      "333/333 [==============================] - 13s 40ms/step - loss: 3691.1253 - mean_absolute_error: 47.7039 - r2_keras: 0.2071\n",
      "Epoch 57/100\n",
      "333/333 [==============================] - 13s 40ms/step - loss: 3687.0105 - mean_absolute_error: 47.6285 - r2_keras: 0.2107\n",
      "Epoch 58/100\n",
      "333/333 [==============================] - 13s 40ms/step - loss: 3677.4221 - mean_absolute_error: 47.5436 - r2_keras: 0.2123\n",
      "Epoch 59/100\n",
      "333/333 [==============================] - 13s 40ms/step - loss: 3672.2850 - mean_absolute_error: 47.4645 - r2_keras: 0.2151\n",
      "Epoch 60/100\n",
      "333/333 [==============================] - 13s 40ms/step - loss: 3661.6184 - mean_absolute_error: 47.3409 - r2_keras: 0.2153\n",
      "Epoch 61/100\n",
      "333/333 [==============================] - 13s 40ms/step - loss: 3653.9654 - mean_absolute_error: 47.2797 - r2_keras: 0.2135\n",
      "Epoch 62/100\n",
      "333/333 [==============================] - 13s 40ms/step - loss: 3644.4159 - mean_absolute_error: 47.2254 - r2_keras: 0.2196\n",
      "Epoch 63/100\n",
      "333/333 [==============================] - 13s 40ms/step - loss: 3632.3888 - mean_absolute_error: 47.0864 - r2_keras: 0.2294\n",
      "Epoch 64/100\n",
      "333/333 [==============================] - 13s 40ms/step - loss: 3626.7776 - mean_absolute_error: 47.0299 - r2_keras: 0.2157\n",
      "Epoch 65/100\n",
      "333/333 [==============================] - 13s 40ms/step - loss: 3619.0769 - mean_absolute_error: 46.9864 - r2_keras: 0.2309\n",
      "Epoch 66/100\n",
      "333/333 [==============================] - 13s 40ms/step - loss: 3611.8091 - mean_absolute_error: 46.9245 - r2_keras: 0.2225\n",
      "Epoch 67/100\n",
      "333/333 [==============================] - 13s 40ms/step - loss: 3612.5367 - mean_absolute_error: 46.9997 - r2_keras: 0.2315\n",
      "Epoch 68/100\n",
      "333/333 [==============================] - 13s 40ms/step - loss: 3612.0009 - mean_absolute_error: 47.0209 - r2_keras: 0.2321\n",
      "Epoch 69/100\n",
      "333/333 [==============================] - 13s 40ms/step - loss: 3607.7909 - mean_absolute_error: 47.0799 - r2_keras: 0.2237\n",
      "Epoch 70/100\n",
      "333/333 [==============================] - 13s 40ms/step - loss: 3614.0002 - mean_absolute_error: 47.2345 - r2_keras: 0.2288\n",
      "Epoch 71/100\n",
      "333/333 [==============================] - 13s 40ms/step - loss: 3612.2054 - mean_absolute_error: 47.3038 - r2_keras: 0.2246\n",
      "Epoch 72/100\n",
      "333/333 [==============================] - 13s 40ms/step - loss: 3619.1791 - mean_absolute_error: 47.4112 - r2_keras: 0.2239\n",
      "Epoch 73/100\n",
      "333/333 [==============================] - 13s 40ms/step - loss: 3629.3670 - mean_absolute_error: 47.5858 - r2_keras: 0.2228\n",
      "Epoch 74/100\n",
      "333/333 [==============================] - 13s 40ms/step - loss: 3641.9386 - mean_absolute_error: 47.7321 - r2_keras: 0.2216\n",
      "Epoch 75/100\n",
      "333/333 [==============================] - 13s 40ms/step - loss: 3678.3021 - mean_absolute_error: 48.1301 - r2_keras: 0.2128\n",
      "Epoch 76/100\n",
      "333/333 [==============================] - 13s 40ms/step - loss: 3721.7252 - mean_absolute_error: 48.6364 - r2_keras: 0.2018\n",
      "Epoch 77/100\n",
      "333/333 [==============================] - 13s 40ms/step - loss: 3795.7382 - mean_absolute_error: 49.3317 - r2_keras: 0.1880\n",
      "Epoch 78/100\n",
      "333/333 [==============================] - 13s 40ms/step - loss: 3847.2047 - mean_absolute_error: 49.8601 - r2_keras: 0.1787\n",
      "Epoch 79/100\n",
      "333/333 [==============================] - 13s 40ms/step - loss: 3885.6467 - mean_absolute_error: 50.0715 - r2_keras: 0.1736\n",
      "Epoch 80/100\n",
      "333/333 [==============================] - 13s 40ms/step - loss: 3897.1382 - mean_absolute_error: 50.1007 - r2_keras: 0.1742\n",
      "Epoch 81/100\n",
      "333/333 [==============================] - 13s 40ms/step - loss: 3830.8556 - mean_absolute_error: 49.5413 - r2_keras: 0.1811\n",
      "Epoch 82/100\n",
      "333/333 [==============================] - 13s 40ms/step - loss: 3788.2595 - mean_absolute_error: 49.0367 - r2_keras: 0.1927\n",
      "Epoch 83/100\n",
      "333/333 [==============================] - 13s 40ms/step - loss: 3711.3024 - mean_absolute_error: 48.2352 - r2_keras: 0.2118\n",
      "Epoch 84/100\n",
      "333/333 [==============================] - 13s 40ms/step - loss: 3690.9042 - mean_absolute_error: 47.8554 - r2_keras: 0.2077\n",
      "Epoch 85/100\n",
      "333/333 [==============================] - 13s 40ms/step - loss: 3647.4444 - mean_absolute_error: 47.3780 - r2_keras: 0.2111\n",
      "Epoch 86/100\n",
      "333/333 [==============================] - 13s 40ms/step - loss: 3613.1882 - mean_absolute_error: 46.9177 - r2_keras: 0.2260\n",
      "Epoch 87/100\n",
      "333/333 [==============================] - 13s 40ms/step - loss: 3582.9426 - mean_absolute_error: 46.4497 - r2_keras: 0.2275\n",
      "Epoch 88/100\n",
      "333/333 [==============================] - 13s 40ms/step - loss: 3563.0113 - mean_absolute_error: 46.0693 - r2_keras: 0.2254\n",
      "Epoch 89/100\n",
      "333/333 [==============================] - 13s 40ms/step - loss: 3532.5854 - mean_absolute_error: 45.6396 - r2_keras: 0.2417\n",
      "Epoch 90/100\n",
      "333/333 [==============================] - 13s 40ms/step - loss: 3510.3383 - mean_absolute_error: 45.3014 - r2_keras: 0.2444\n",
      "Epoch 91/100\n",
      "333/333 [==============================] - 13s 40ms/step - loss: 3495.2775 - mean_absolute_error: 45.0849 - r2_keras: 0.2484\n",
      "Epoch 92/100\n",
      "333/333 [==============================] - 13s 40ms/step - loss: 3488.4476 - mean_absolute_error: 44.9462 - r2_keras: 0.2528\n",
      "Epoch 93/100\n",
      "333/333 [==============================] - 13s 40ms/step - loss: 3479.7040 - mean_absolute_error: 44.8070 - r2_keras: 0.2590\n",
      "Epoch 94/100\n",
      "333/333 [==============================] - 13s 40ms/step - loss: 3475.8773 - mean_absolute_error: 44.7161 - r2_keras: 0.2571\n",
      "Epoch 95/100\n",
      "333/333 [==============================] - 13s 40ms/step - loss: 3465.3451 - mean_absolute_error: 44.6246 - r2_keras: 0.2600\n",
      "Epoch 96/100\n",
      "333/333 [==============================] - 13s 40ms/step - loss: 3462.5801 - mean_absolute_error: 44.6519 - r2_keras: 0.2539\n",
      "Epoch 97/100\n",
      "333/333 [==============================] - 13s 40ms/step - loss: 3460.5272 - mean_absolute_error: 44.6542 - r2_keras: 0.2550\n",
      "Epoch 98/100\n",
      "333/333 [==============================] - 13s 40ms/step - loss: 3459.9902 - mean_absolute_error: 44.6997 - r2_keras: 0.2606\n",
      "Epoch 99/100\n",
      "333/333 [==============================] - 13s 40ms/step - loss: 3460.1899 - mean_absolute_error: 44.7793 - r2_keras: 0.2567\n",
      "Epoch 100/100\n",
      "333/333 [==============================] - 13s 40ms/step - loss: 3459.7703 - mean_absolute_error: 44.8362 - r2_keras: 0.2506\n"
     ]
    },
    {
     "data": {
      "text/plain": [
       "<tensorflow.python.keras.callbacks.History at 0x7fb7b7f28590>"
      ]
     },
     "execution_count": 31,
     "metadata": {},
     "output_type": "execute_result"
    }
   ],
   "source": [
    "test_model.fit([X_train], y_train, epochs=epochs, batch_size=batch_size, verbose=1)"
   ]
  },
  {
   "cell_type": "code",
   "execution_count": null,
   "metadata": {},
   "outputs": [
    {
     "name": "stdout",
     "output_type": "stream",
     "text": [
      "Epoch 1/1\n",
      "333/333 [==============================] - 149s 448ms/step - loss: 5951.9359 - mean_absolute_error: 58.9924 - r2_keras: -0.0828\n",
      "37/37 [==============================] - 3s 74ms/step\n",
      "eval loss: 5171.82117029\n",
      "Epoch 1/1\n",
      "333/333 [==============================] - 117s 353ms/step - loss: 5250.5845 - mean_absolute_error: 58.9896 - r2_keras: -0.1210\n",
      "37/37 [==============================] - 3s 71ms/step\n",
      "eval loss: 5157.77367504\n",
      "Epoch 1/1\n",
      "333/333 [==============================] - 117s 352ms/step - loss: 5236.5355 - mean_absolute_error: 58.9894 - r2_keras: -0.1084\n",
      "37/37 [==============================] - 3s 71ms/step\n",
      "eval loss: 5137.01811919\n",
      "Epoch 1/1\n",
      "333/333 [==============================] - 117s 352ms/step - loss: 5224.0388 - mean_absolute_error: 58.9883 - r2_keras: -0.1065\n",
      "37/37 [==============================] - 3s 71ms/step\n",
      "eval loss: 5145.09954339\n",
      "Epoch 1/1\n",
      "333/333 [==============================] - 117s 352ms/step - loss: 5223.8316 - mean_absolute_error: 58.9874 - r2_keras: -0.0887\n",
      "37/37 [==============================] - 3s 71ms/step\n",
      "eval loss: 5144.11047033\n",
      "Epoch 1/1\n",
      "333/333 [==============================] - 117s 351ms/step - loss: 5220.4150 - mean_absolute_error: 58.9870 - r2_keras: -0.0912\n",
      "37/37 [==============================] - 3s 71ms/step\n",
      "eval loss: 5142.95837732\n",
      "Epoch 1/1\n",
      "333/333 [==============================] - 117s 352ms/step - loss: 5219.8001 - mean_absolute_error: 58.9913 - r2_keras: -0.1095\n",
      "37/37 [==============================] - 3s 71ms/step\n",
      "eval loss: 5273.1801098\n",
      "Epoch 1/1\n",
      "333/333 [==============================] - 117s 351ms/step - loss: 5251.6383 - mean_absolute_error: 59.0022 - r2_keras: -0.1093\n",
      "37/37 [==============================] - 3s 71ms/step\n",
      "eval loss: 5162.04869616\n",
      "Epoch 1/1\n",
      "333/333 [==============================] - 117s 351ms/step - loss: 5235.4420 - mean_absolute_error: 58.9935 - r2_keras: -0.1216\n",
      "37/37 [==============================] - 3s 71ms/step\n",
      "eval loss: 5152.62358794\n",
      "Epoch 1/1\n",
      "250/333 [=====================>........] - ETA: 29s - loss: 5221.5835 - mean_absolute_error: 58.7850 - r2_keras: -0.1170"
     ]
    }
   ],
   "source": [
    "train_loss = []\n",
    "test_loss = []\n",
    "for e in xrange(epochs):\n",
    "    hist = test_model.fit([X_bold_train, X_voxel_train], y_train, epochs=1, batch_size=batch_size, verbose=1)\n",
    "    train_loss.append(hist.history['loss'][0])\n",
    "    Eval = test_model.evaluate([X_bold_test, X_voxel_test], y_test, batch_size=batch_size)\n",
    "    print 'eval loss: {}'.format(Eval[0])\n",
    "    test_loss.append(Eval[0])"
   ]
  },
  {
   "cell_type": "code",
   "execution_count": 15,
   "metadata": {},
   "outputs": [],
   "source": [
    "epoch_series = np.arange(len(train_loss))"
   ]
  },
  {
   "cell_type": "code",
   "execution_count": 16,
   "metadata": {},
   "outputs": [
    {
     "data": {
      "text/plain": [
       "[<matplotlib.lines.Line2D at 0x7f65ea53f950>,\n",
       " <matplotlib.lines.Line2D at 0x7f65ea53fa10>]"
      ]
     },
     "execution_count": 16,
     "metadata": {},
     "output_type": "execute_result"
    },
    {
     "data": {
      "image/png": "[encoded data removed]",
      "text/plain": [
       "<Figure size 432x288 with 1 Axes>"
      ]
     },
     "metadata": {},
     "output_type": "display_data"
    }
   ],
   "source": [
    "ax = plt.figure()\n",
    "plt.plot(epoch_series, test_loss, epoch_series, train_loss)"
   ]
  },
  {
   "cell_type": "code",
   "execution_count": 62,
   "metadata": {},
   "outputs": [
    {
     "name": "stdout",
     "output_type": "stream",
     "text": [
      "37/37 [==============================] - 0s 4ms/step\n"
     ]
    }
   ],
   "source": [
    "metrics = test_model.evaluate(X_test, y_test, batch_size=batch_size)"
   ]
  },
  {
   "cell_type": "code",
   "execution_count": 63,
   "metadata": {},
   "outputs": [
    {
     "data": {
      "text/plain": [
       "[5240.400522592905, 60.59096908569336, -0.15193199144827352]"
      ]
     },
     "execution_count": 63,
     "metadata": {},
     "output_type": "execute_result"
    }
   ],
   "source": [
    "metrics"
   ]
  },
  {
   "cell_type": "code",
   "execution_count": 53,
   "metadata": {},
   "outputs": [],
   "source": [
    "stim_index = 2\n",
    "img_shape = (50,50,3)"
   ]
  },
  {
   "cell_type": "code",
   "execution_count": 54,
   "metadata": {},
   "outputs": [],
   "source": [
    "Y = y_test"
   ]
  },
  {
   "cell_type": "code",
   "execution_count": 55,
   "metadata": {},
   "outputs": [
    {
     "name": "stdout",
     "output_type": "stream",
     "text": [
      "(7500,) (1, 7500)\n"
     ]
    }
   ],
   "source": [
    "x_d = np.expand_dims(X_voxel_test[stim_index], 0)\n",
    "x_c = np.expand_dims(X_bold_test[stim_index], 0)\n",
    "# x_c.shape\n",
    "\n",
    "# x_d.shape\n",
    "y = Y[stim_index]\n",
    "p = test_model.predict([x_c, x_d])\n",
    "print y.shape, p.shape"
   ]
  },
  {
   "cell_type": "code",
   "execution_count": 56,
   "metadata": {},
   "outputs": [
    {
     "data": {
      "text/plain": [
       "<matplotlib.image.AxesImage at 0x7f461dd41750>"
      ]
     },
     "execution_count": 56,
     "metadata": {},
     "output_type": "execute_result"
    },
    {
     "data": {
      "image/png": "[encoded data removed]",
      "text/plain": [
       "<Figure size 432x288 with 1 Axes>"
      ]
     },
     "metadata": {},
     "output_type": "display_data"
    }
   ],
   "source": [
    "plt.imshow(y.reshape(img_shape))"
   ]
  },
  {
   "cell_type": "code",
   "execution_count": 57,
   "metadata": {},
   "outputs": [
    {
     "data": {
      "text/plain": [
       "<matplotlib.image.AxesImage at 0x7f461dd2a990>"
      ]
     },
     "execution_count": 57,
     "metadata": {},
     "output_type": "execute_result"
    },
    {
     "data": {
      "image/png": "[encoded data removed]",
      "text/plain": [
       "<Figure size 432x288 with 1 Axes>"
      ]
     },
     "metadata": {},
     "output_type": "display_data"
    }
   ],
   "source": [
    "plt.imshow(p.reshape(img_shape))"
   ]
  },
  {
   "cell_type": "markdown",
   "metadata": {},
   "source": [
    "Best so far model j"
   ]
  },
  {
   "cell_type": "code",
   "execution_count": 63,
   "metadata": {},
   "outputs": [
    {
     "data": {
      "text/plain": [
       "<matplotlib.image.AxesImage at 0x7f0dd532ecd0>"
      ]
     },
     "execution_count": 63,
     "metadata": {},
     "output_type": "execute_result"
    },
    {
     "data": {
      "image/png": "[encoded data removed]",
      "text/plain": [
       "<Figure size 432x288 with 1 Axes>"
      ]
     },
     "metadata": {},
     "output_type": "display_data"
    }
   ],
   "source": [
    "plt.imshow(p.reshape(img_shape))"
   ]
  },
  {
   "cell_type": "code",
   "execution_count": 64,
   "metadata": {},
   "outputs": [
    {
     "data": {
      "text/plain": [
       "'c'"
      ]
     },
     "execution_count": 64,
     "metadata": {},
     "output_type": "execute_result"
    }
   ],
   "source": [
    "'-'.join(['c'])"
   ]
  },
  {
   "cell_type": "code",
   "execution_count": 65,
   "metadata": {},
   "outputs": [],
   "source": [
    "test_model.save(os.path.join(TRAINED_MODELS_DIR, \n",
    "                             'sub-{}_ses-{}_mod-{}_data-{}_lab-{}'.format(subject, \n",
    "                            session, model_version, '-'.join(data_version), label_version)))"
   ]
  },
  {
   "cell_type": "code",
   "execution_count": null,
   "metadata": {},
   "outputs": [],
   "source": [
    "# X_batches = chunks(X, input_per_batch)\n",
    "# Y_batches = chunks(Y, input_per_batch)\n",
    "# for _ in xrange(epochs):\n",
    "#     loss_list = []\n",
    "#     accuracy_list = []\n",
    "#     for i in range(len(X_batches)):\n",
    "#         metrics = test_model.train_on_batch(X_batches[i], Y_batches[i])\n",
    "#         loss_list.append(metrics[0])\n",
    "#         accuracy_list.append(metrics[1])\n",
    "#         print '*' ,\n",
    "#     print 'epoch {}-loss:{}-acc:{}'.format(_, np.mean(loss_list), np.mean(accuracy_list))"
   ]
  },
  {
   "cell_type": "code",
   "execution_count": 13,
   "metadata": {},
   "outputs": [],
   "source": [
    "def chunks(l, n):\n",
    "    res = []\n",
    "    for i in xrange(0, len(l), n):\n",
    "        res.append(l[i:i+n])\n",
    "    return res"
   ]
  },
  {
   "cell_type": "code",
   "execution_count": null,
   "metadata": {},
   "outputs": [],
   "source": []
  }
 ],
 "metadata": {
  "kernelspec": {
   "display_name": "Python 2",
   "language": "python",
   "name": "python2"
  },
  "language_info": {
   "codemirror_mode": {
    "name": "ipython",
    "version": 2
   },
   "file_extension": ".py",
   "mimetype": "text/x-python",
   "name": "python",
   "nbconvert_exporter": "python",
   "pygments_lexer": "ipython2",
   "version": "2.7.13"
  }
 },
 "nbformat": 4,
 "nbformat_minor": 2
}
